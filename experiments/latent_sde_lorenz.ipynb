{
  "nbformat": 4,
  "nbformat_minor": 0,
  "metadata": {
    "colab": {
      "provenance": [],
      "gpuType": "T4"
    },
    "kernelspec": {
      "name": "python3",
      "display_name": "Python 3"
    },
    "language_info": {
      "name": "python"
    },
    "accelerator": "GPU"
  },
  "cells": [
    {
      "cell_type": "code",
      "execution_count": 1,
      "metadata": {
        "colab": {
          "base_uri": "https://localhost:8080/"
        },
        "id": "GZQtKphLIfQf",
        "outputId": "e6d74c84-0ac0-4a75-b11f-c6c724512780"
      },
      "outputs": [
        {
          "output_type": "stream",
          "name": "stdout",
          "text": [
            "Cloning into 'Neural_PDE-Final'...\n",
            "remote: Enumerating objects: 94, done.\u001b[K\n",
            "remote: Counting objects: 100% (94/94), done.\u001b[K\n",
            "remote: Compressing objects: 100% (60/60), done.\u001b[K\n",
            "remote: Total 94 (delta 36), reused 84 (delta 31), pack-reused 0 (from 0)\u001b[K\n",
            "Receiving objects: 100% (94/94), 1.16 MiB | 14.81 MiB/s, done.\n",
            "Resolving deltas: 100% (36/36), done.\n"
          ]
        }
      ],
      "source": [
        "!git clone https://github.com/Tselmuun0624/Neural_PDE-Final.git"
      ]
    },
    {
      "cell_type": "code",
      "source": [
        "import os\n",
        "os.chdir('./Neural_PDE-Final')\n",
        "print(os.getcwd())"
      ],
      "metadata": {
        "colab": {
          "base_uri": "https://localhost:8080/"
        },
        "id": "EyMAU64DJC7h",
        "outputId": "eb3fde3d-8d17-4836-877b-9c145927386b"
      },
      "execution_count": 2,
      "outputs": [
        {
          "output_type": "stream",
          "name": "stdout",
          "text": [
            "/content/Neural_PDE-Final\n"
          ]
        }
      ]
    },
    {
      "cell_type": "code",
      "source": [
        "!ls"
      ],
      "metadata": {
        "colab": {
          "base_uri": "https://localhost:8080/"
        },
        "id": "TDlKH74sI6Qz",
        "outputId": "93e20c3e-85de-4c19-fae2-9dc91ea70bae"
      },
      "execution_count": 3,
      "outputs": [
        {
          "output_type": "stream",
          "name": "stdout",
          "text": [
            "experiments  README.md\ttorchsde\n"
          ]
        }
      ]
    },
    {
      "cell_type": "code",
      "source": [
        "!pip install torchsde\n",
        "!pip install fire"
      ],
      "metadata": {
        "colab": {
          "base_uri": "https://localhost:8080/"
        },
        "id": "VRH7RUCWJM9r",
        "outputId": "025efc33-d20d-4ff1-c2d5-40292a04741e"
      },
      "execution_count": 4,
      "outputs": [
        {
          "output_type": "stream",
          "name": "stdout",
          "text": [
            "Collecting torchsde\n",
            "  Downloading torchsde-0.2.6-py3-none-any.whl.metadata (5.3 kB)\n",
            "Requirement already satisfied: numpy>=1.19 in /usr/local/lib/python3.10/dist-packages (from torchsde) (1.26.4)\n",
            "Requirement already satisfied: scipy>=1.5 in /usr/local/lib/python3.10/dist-packages (from torchsde) (1.13.1)\n",
            "Requirement already satisfied: torch>=1.6.0 in /usr/local/lib/python3.10/dist-packages (from torchsde) (2.5.1+cu121)\n",
            "Collecting trampoline>=0.1.2 (from torchsde)\n",
            "  Downloading trampoline-0.1.2-py3-none-any.whl.metadata (10 kB)\n",
            "Requirement already satisfied: filelock in /usr/local/lib/python3.10/dist-packages (from torch>=1.6.0->torchsde) (3.16.1)\n",
            "Requirement already satisfied: typing-extensions>=4.8.0 in /usr/local/lib/python3.10/dist-packages (from torch>=1.6.0->torchsde) (4.12.2)\n",
            "Requirement already satisfied: networkx in /usr/local/lib/python3.10/dist-packages (from torch>=1.6.0->torchsde) (3.4.2)\n",
            "Requirement already satisfied: jinja2 in /usr/local/lib/python3.10/dist-packages (from torch>=1.6.0->torchsde) (3.1.4)\n",
            "Requirement already satisfied: fsspec in /usr/local/lib/python3.10/dist-packages (from torch>=1.6.0->torchsde) (2024.10.0)\n",
            "Requirement already satisfied: sympy==1.13.1 in /usr/local/lib/python3.10/dist-packages (from torch>=1.6.0->torchsde) (1.13.1)\n",
            "Requirement already satisfied: mpmath<1.4,>=1.1.0 in /usr/local/lib/python3.10/dist-packages (from sympy==1.13.1->torch>=1.6.0->torchsde) (1.3.0)\n",
            "Requirement already satisfied: MarkupSafe>=2.0 in /usr/local/lib/python3.10/dist-packages (from jinja2->torch>=1.6.0->torchsde) (3.0.2)\n",
            "Downloading torchsde-0.2.6-py3-none-any.whl (61 kB)\n",
            "\u001b[2K   \u001b[90m━━━━━━━━━━━━━━━━━━━━━━━━━━━━━━━━━━━━━━━━\u001b[0m \u001b[32m61.2/61.2 kB\u001b[0m \u001b[31m3.1 MB/s\u001b[0m eta \u001b[36m0:00:00\u001b[0m\n",
            "\u001b[?25hDownloading trampoline-0.1.2-py3-none-any.whl (5.2 kB)\n",
            "Installing collected packages: trampoline, torchsde\n",
            "Successfully installed torchsde-0.2.6 trampoline-0.1.2\n",
            "Collecting fire\n",
            "  Downloading fire-0.7.0.tar.gz (87 kB)\n",
            "\u001b[2K     \u001b[90m━━━━━━━━━━━━━━━━━━━━━━━━━━━━━━━━━━━━━━━━\u001b[0m \u001b[32m87.2/87.2 kB\u001b[0m \u001b[31m3.4 MB/s\u001b[0m eta \u001b[36m0:00:00\u001b[0m\n",
            "\u001b[?25h  Preparing metadata (setup.py) ... \u001b[?25l\u001b[?25hdone\n",
            "Requirement already satisfied: termcolor in /usr/local/lib/python3.10/dist-packages (from fire) (2.5.0)\n",
            "Building wheels for collected packages: fire\n",
            "  Building wheel for fire (setup.py) ... \u001b[?25l\u001b[?25hdone\n",
            "  Created wheel for fire: filename=fire-0.7.0-py3-none-any.whl size=114249 sha256=f5bb3984a394ca4e8f347c260da96d44808af28829255bcdb600432f05076c25\n",
            "  Stored in directory: /root/.cache/pip/wheels/19/39/2f/2d3cadc408a8804103f1c34ddd4b9f6a93497b11fa96fe738e\n",
            "Successfully built fire\n",
            "Installing collected packages: fire\n",
            "Successfully installed fire-0.7.0\n"
          ]
        }
      ]
    },
    {
      "cell_type": "code",
      "source": [
        "!python -m experiments.latent_sde_lorenz_1 --train-dir './outputs'"
      ],
      "metadata": {
        "colab": {
          "base_uri": "https://localhost:8080/"
        },
        "id": "q5F_zEVhVq9s",
        "outputId": "7310ae61-c073-410c-df82-dd78752c0f57"
      },
      "execution_count": null,
      "outputs": [
        {
          "output_type": "stream",
          "name": "stdout",
          "text": [
            "WARNING:root:Stored toy data at: ./Neural_PDE-Final/lorenz_data.pth\n",
            "  2% 49/3000 [00:51<50:36,  1.03s/it]WARNING:root:global_step: 000050, lr: 0.00861, log_pxs: -979508.5625, log_ratio: 2224.8574 loss: 980250.1875, kl_coeff: 0.3400\n",
            "  3% 99/3000 [02:07<50:37,  1.05s/it]WARNING:root:global_step: 000100, lr: 0.00740, log_pxs: -512162.9062, log_ratio: 8335.5635 loss: 517719.9375, kl_coeff: 0.6733\n",
            "  5% 149/3000 [03:23<48:52,  1.03s/it]WARNING:root:global_step: 000150, lr: 0.00637, log_pxs: -283645.4062, log_ratio: 9249.8076 loss: 292895.2188, kl_coeff: 1.0000\n",
            "  7% 199/3000 [04:38<48:39,  1.04s/it]WARNING:root:global_step: 000200, lr: 0.00548, log_pxs: -173044.0625, log_ratio: 8475.8877 loss: 181519.9531, kl_coeff: 1.0000\n",
            "WARNING:root:global_step: 000200, lr: 0.00548, log_pxs: -173044.0625, log_ratio: 8475.8877 loss: 181519.9531, kl_coeff: 1.0000\n",
            "  8% 249/3000 [05:55<1:00:07,  1.31s/it]WARNING:root:global_step: 000250, lr: 0.00472, log_pxs: -112599.0469, log_ratio: 7742.3042 loss: 120341.3516, kl_coeff: 1.0000\n",
            "WARNING:root:global_step: 000250, lr: 0.00472, log_pxs: -112599.0469, log_ratio: 7742.3042 loss: 120341.3516, kl_coeff: 1.0000\n",
            " 10% 299/3000 [07:11<48:19,  1.07s/it]WARNING:root:global_step: 000300, lr: 0.00406, log_pxs: -88246.0469, log_ratio: 6966.9292 loss: 95212.9766, kl_coeff: 1.0000\n",
            "WARNING:root:global_step: 000300, lr: 0.00406, log_pxs: -88246.0469, log_ratio: 6966.9292 loss: 95212.9766, kl_coeff: 1.0000\n",
            " 12% 349/3000 [08:26<45:53,  1.04s/it]WARNING:root:global_step: 000350, lr: 0.00349, log_pxs: -72090.3906, log_ratio: 4706.0103 loss: 76796.3984, kl_coeff: 1.0000\n",
            "WARNING:root:global_step: 000350, lr: 0.00349, log_pxs: -72090.3906, log_ratio: 4706.0103 loss: 76796.3984, kl_coeff: 1.0000\n",
            " 13% 399/3000 [09:41<44:10,  1.02s/it]WARNING:root:global_step: 000400, lr: 0.00301, log_pxs: -56240.0742, log_ratio: 3714.1597 loss: 59954.2344, kl_coeff: 1.0000\n",
            "WARNING:root:global_step: 000400, lr: 0.00301, log_pxs: -56240.0742, log_ratio: 3714.1597 loss: 59954.2344, kl_coeff: 1.0000\n",
            " 15% 449/3000 [10:56<50:01,  1.18s/it]WARNING:root:global_step: 000450, lr: 0.00259, log_pxs: -39006.5547, log_ratio: 3633.6509 loss: 42640.2070, kl_coeff: 1.0000\n",
            "WARNING:root:global_step: 000450, lr: 0.00259, log_pxs: -39006.5547, log_ratio: 3633.6509 loss: 42640.2070, kl_coeff: 1.0000\n",
            " 17% 499/3000 [12:11<45:07,  1.08s/it]WARNING:root:global_step: 000500, lr: 0.00223, log_pxs: -29220.2578, log_ratio: 3204.1172 loss: 32424.3750, kl_coeff: 1.0000\n",
            "WARNING:root:global_step: 000500, lr: 0.00223, log_pxs: -29220.2578, log_ratio: 3204.1172 loss: 32424.3750, kl_coeff: 1.0000\n",
            " 18% 549/3000 [13:26<42:25,  1.04s/it]WARNING:root:global_step: 000550, lr: 0.00192, log_pxs: -24112.9844, log_ratio: 2840.6875 loss: 26953.6719, kl_coeff: 1.0000\n",
            "WARNING:root:global_step: 000550, lr: 0.00192, log_pxs: -24112.9844, log_ratio: 2840.6875 loss: 26953.6719, kl_coeff: 1.0000\n",
            " 20% 599/3000 [14:40<41:04,  1.03s/it]WARNING:root:global_step: 000600, lr: 0.00165, log_pxs: -21628.8867, log_ratio: 2532.0059 loss: 24160.8926, kl_coeff: 1.0000\n",
            "WARNING:root:global_step: 000600, lr: 0.00165, log_pxs: -21628.8867, log_ratio: 2532.0059 loss: 24160.8926, kl_coeff: 1.0000\n",
            " 22% 649/3000 [15:55<40:19,  1.03s/it]WARNING:root:global_step: 000650, lr: 0.00142, log_pxs: -19886.0977, log_ratio: 2398.2764 loss: 22284.3750, kl_coeff: 1.0000\n",
            "WARNING:root:global_step: 000650, lr: 0.00142, log_pxs: -19886.0977, log_ratio: 2398.2764 loss: 22284.3750, kl_coeff: 1.0000\n",
            " 23% 699/3000 [17:10<45:34,  1.19s/it]WARNING:root:global_step: 000700, lr: 0.00122, log_pxs: -18718.3262, log_ratio: 2264.0032 loss: 20982.3301, kl_coeff: 1.0000\n",
            "WARNING:root:global_step: 000700, lr: 0.00122, log_pxs: -18718.3262, log_ratio: 2264.0032 loss: 20982.3301, kl_coeff: 1.0000\n",
            " 25% 749/3000 [18:25<40:34,  1.08s/it]WARNING:root:global_step: 000750, lr: 0.00105, log_pxs: -17885.6758, log_ratio: 2163.5840 loss: 20049.2598, kl_coeff: 1.0000\n",
            "WARNING:root:global_step: 000750, lr: 0.00105, log_pxs: -17885.6758, log_ratio: 2163.5840 loss: 20049.2598, kl_coeff: 1.0000\n",
            " 27% 799/3000 [19:39<38:12,  1.04s/it]WARNING:root:global_step: 000800, lr: 0.00090, log_pxs: -16983.4922, log_ratio: 2087.9543 loss: 19071.4473, kl_coeff: 1.0000\n",
            "WARNING:root:global_step: 000800, lr: 0.00090, log_pxs: -16983.4922, log_ratio: 2087.9543 loss: 19071.4473, kl_coeff: 1.0000\n",
            " 28% 849/3000 [20:54<36:44,  1.02s/it]WARNING:root:global_step: 000850, lr: 0.00078, log_pxs: -16237.0332, log_ratio: 2064.4614 loss: 18301.4941, kl_coeff: 1.0000\n",
            "WARNING:root:global_step: 000850, lr: 0.00078, log_pxs: -16237.0332, log_ratio: 2064.4614 loss: 18301.4941, kl_coeff: 1.0000\n",
            " 30% 899/3000 [22:09<35:58,  1.03s/it]WARNING:root:global_step: 000900, lr: 0.00067, log_pxs: -15993.3301, log_ratio: 1985.5520 loss: 17978.8828, kl_coeff: 1.0000\n",
            "WARNING:root:global_step: 000900, lr: 0.00067, log_pxs: -15993.3301, log_ratio: 1985.5520 loss: 17978.8828, kl_coeff: 1.0000\n",
            " 32% 949/3000 [23:26<40:52,  1.20s/it]WARNING:root:global_step: 000950, lr: 0.00058, log_pxs: -15434.2129, log_ratio: 1974.4169 loss: 17408.6289, kl_coeff: 1.0000\n",
            "WARNING:root:global_step: 000950, lr: 0.00058, log_pxs: -15434.2129, log_ratio: 1974.4169 loss: 17408.6289, kl_coeff: 1.0000\n",
            " 33% 999/3000 [24:41<37:01,  1.11s/it]WARNING:root:global_step: 001000, lr: 0.00050, log_pxs: -15032.8125, log_ratio: 1933.6340 loss: 16966.4473, kl_coeff: 1.0000\n",
            "WARNING:root:global_step: 001000, lr: 0.00050, log_pxs: -15032.8125, log_ratio: 1933.6340 loss: 16966.4473, kl_coeff: 1.0000\n",
            " 35% 1049/3000 [25:56<33:59,  1.05s/it]WARNING:root:global_step: 001050, lr: 0.00043, log_pxs: -14693.6143, log_ratio: 1905.4443 loss: 16599.0586, kl_coeff: 1.0000\n",
            "WARNING:root:global_step: 001050, lr: 0.00043, log_pxs: -14693.6143, log_ratio: 1905.4443 loss: 16599.0586, kl_coeff: 1.0000\n",
            " 37% 1099/3000 [27:11<32:48,  1.04s/it]WARNING:root:global_step: 001100, lr: 0.00037, log_pxs: -14447.1699, log_ratio: 1878.2396 loss: 16325.4092, kl_coeff: 1.0000\n",
            "WARNING:root:global_step: 001100, lr: 0.00037, log_pxs: -14447.1699, log_ratio: 1878.2396 loss: 16325.4092, kl_coeff: 1.0000\n",
            " 38% 1149/3000 [28:26<31:52,  1.03s/it]WARNING:root:global_step: 001150, lr: 0.00032, log_pxs: -14293.5869, log_ratio: 1874.4154 loss: 16168.0020, kl_coeff: 1.0000\n",
            "WARNING:root:global_step: 001150, lr: 0.00032, log_pxs: -14293.5869, log_ratio: 1874.4154 loss: 16168.0020, kl_coeff: 1.0000\n",
            " 40% 1199/3000 [29:42<36:22,  1.21s/it]WARNING:root:global_step: 001200, lr: 0.00027, log_pxs: -14195.3506, log_ratio: 1867.1881 loss: 16062.5391, kl_coeff: 1.0000\n",
            "WARNING:root:global_step: 001200, lr: 0.00027, log_pxs: -14195.3506, log_ratio: 1867.1881 loss: 16062.5391, kl_coeff: 1.0000\n",
            " 42% 1249/3000 [30:57<31:59,  1.10s/it]WARNING:root:global_step: 001250, lr: 0.00023, log_pxs: -14112.4238, log_ratio: 1850.4597 loss: 15962.8838, kl_coeff: 1.0000\n",
            "WARNING:root:global_step: 001250, lr: 0.00023, log_pxs: -14112.4238, log_ratio: 1850.4597 loss: 15962.8838, kl_coeff: 1.0000\n",
            " 43% 1299/3000 [32:12<30:11,  1.06s/it]WARNING:root:global_step: 001300, lr: 0.00020, log_pxs: -13921.5391, log_ratio: 1833.8707 loss: 15755.4102, kl_coeff: 1.0000\n",
            "WARNING:root:global_step: 001300, lr: 0.00020, log_pxs: -13921.5391, log_ratio: 1833.8707 loss: 15755.4102, kl_coeff: 1.0000\n",
            " 45% 1349/3000 [33:27<28:46,  1.05s/it]WARNING:root:global_step: 001350, lr: 0.00017, log_pxs: -13758.2217, log_ratio: 1823.0336 loss: 15581.2549, kl_coeff: 1.0000\n",
            "WARNING:root:global_step: 001350, lr: 0.00017, log_pxs: -13758.2217, log_ratio: 1823.0336 loss: 15581.2549, kl_coeff: 1.0000\n",
            " 47% 1399/3000 [34:43<27:29,  1.03s/it]WARNING:root:global_step: 001400, lr: 0.00015, log_pxs: -13617.9795, log_ratio: 1807.6077 loss: 15425.5869, kl_coeff: 1.0000\n",
            "WARNING:root:global_step: 001400, lr: 0.00015, log_pxs: -13617.9795, log_ratio: 1807.6077 loss: 15425.5869, kl_coeff: 1.0000\n",
            " 48% 1449/3000 [35:58<30:38,  1.19s/it]WARNING:root:global_step: 001450, lr: 0.00013, log_pxs: -13505.1553, log_ratio: 1802.6575 loss: 15307.8125, kl_coeff: 1.0000\n",
            "WARNING:root:global_step: 001450, lr: 0.00013, log_pxs: -13505.1553, log_ratio: 1802.6575 loss: 15307.8125, kl_coeff: 1.0000\n",
            " 50% 1499/3000 [37:14<26:41,  1.07s/it]WARNING:root:global_step: 001500, lr: 0.00011, log_pxs: -13519.2725, log_ratio: 1806.7643 loss: 15326.0371, kl_coeff: 1.0000\n",
            "WARNING:root:global_step: 001500, lr: 0.00011, log_pxs: -13519.2725, log_ratio: 1806.7643 loss: 15326.0371, kl_coeff: 1.0000\n",
            " 52% 1549/3000 [38:28<25:17,  1.05s/it]WARNING:root:global_step: 001550, lr: 0.00009, log_pxs: -13220.7627, log_ratio: 1786.7644 loss: 15007.5273, kl_coeff: 1.0000\n",
            "WARNING:root:global_step: 001550, lr: 0.00009, log_pxs: -13220.7627, log_ratio: 1786.7644 loss: 15007.5273, kl_coeff: 1.0000\n",
            " 53% 1599/3000 [39:45<24:06,  1.03s/it]WARNING:root:global_step: 001600, lr: 0.00008, log_pxs: -13292.9160, log_ratio: 1793.8309 loss: 15086.7471, kl_coeff: 1.0000\n",
            "WARNING:root:global_step: 001600, lr: 0.00008, log_pxs: -13292.9160, log_ratio: 1793.8309 loss: 15086.7471, kl_coeff: 1.0000\n",
            " 55% 1649/3000 [41:00<24:37,  1.09s/it]WARNING:root:global_step: 001650, lr: 0.00007, log_pxs: -13273.4219, log_ratio: 1784.4955 loss: 15057.9170, kl_coeff: 1.0000\n",
            "WARNING:root:global_step: 001650, lr: 0.00007, log_pxs: -13273.4219, log_ratio: 1784.4955 loss: 15057.9170, kl_coeff: 1.0000\n",
            " 57% 1699/3000 [42:16<24:54,  1.15s/it]WARNING:root:global_step: 001700, lr: 0.00006, log_pxs: -13212.2617, log_ratio: 1781.9666 loss: 14994.2285, kl_coeff: 1.0000\n",
            "WARNING:root:global_step: 001700, lr: 0.00006, log_pxs: -13212.2617, log_ratio: 1781.9666 loss: 14994.2285, kl_coeff: 1.0000\n",
            " 58% 1749/3000 [43:31<22:22,  1.07s/it]WARNING:root:global_step: 001750, lr: 0.00005, log_pxs: -13153.9082, log_ratio: 1781.9128 loss: 14935.8213, kl_coeff: 1.0000\n",
            "WARNING:root:global_step: 001750, lr: 0.00005, log_pxs: -13153.9082, log_ratio: 1781.9128 loss: 14935.8213, kl_coeff: 1.0000\n",
            " 60% 1799/3000 [44:46<21:15,  1.06s/it]WARNING:root:global_step: 001800, lr: 0.00004, log_pxs: -13060.8174, log_ratio: 1770.7106 loss: 14831.5283, kl_coeff: 1.0000\n",
            "WARNING:root:global_step: 001800, lr: 0.00004, log_pxs: -13060.8174, log_ratio: 1770.7106 loss: 14831.5283, kl_coeff: 1.0000\n",
            " 62% 1849/3000 [46:01<19:33,  1.02s/it]WARNING:root:global_step: 001850, lr: 0.00004, log_pxs: -12904.5254, log_ratio: 1768.5559 loss: 14673.0811, kl_coeff: 1.0000\n",
            "WARNING:root:global_step: 001850, lr: 0.00004, log_pxs: -12904.5254, log_ratio: 1768.5559 loss: 14673.0811, kl_coeff: 1.0000\n",
            " 63% 1899/3000 [47:16<18:45,  1.02s/it]WARNING:root:global_step: 001900, lr: 0.00003, log_pxs: -12935.0352, log_ratio: 1765.8062 loss: 14700.8418, kl_coeff: 1.0000\n",
            "WARNING:root:global_step: 001900, lr: 0.00003, log_pxs: -12935.0352, log_ratio: 1765.8062 loss: 14700.8418, kl_coeff: 1.0000\n",
            " 65% 1949/3000 [48:32<20:15,  1.16s/it]WARNING:root:global_step: 001950, lr: 0.00003, log_pxs: -13059.0684, log_ratio: 1782.3204 loss: 14841.3887, kl_coeff: 1.0000\n",
            "WARNING:root:global_step: 001950, lr: 0.00003, log_pxs: -13059.0684, log_ratio: 1782.3204 loss: 14841.3887, kl_coeff: 1.0000\n",
            " 67% 1999/3000 [49:47<17:57,  1.08s/it]WARNING:root:global_step: 002000, lr: 0.00002, log_pxs: -13031.1084, log_ratio: 1771.1492 loss: 14802.2578, kl_coeff: 1.0000\n",
            "WARNING:root:global_step: 002000, lr: 0.00002, log_pxs: -13031.1084, log_ratio: 1771.1492 loss: 14802.2578, kl_coeff: 1.0000\n",
            " 68% 2049/3000 [51:03<16:36,  1.05s/it]WARNING:root:global_step: 002050, lr: 0.00002, log_pxs: -12957.3125, log_ratio: 1761.8536 loss: 14719.1660, kl_coeff: 1.0000\n",
            "WARNING:root:global_step: 002050, lr: 0.00002, log_pxs: -12957.3125, log_ratio: 1761.8536 loss: 14719.1660, kl_coeff: 1.0000\n",
            " 70% 2099/3000 [52:18<15:30,  1.03s/it]WARNING:root:global_step: 002100, lr: 0.00002, log_pxs: -12958.2559, log_ratio: 1759.7139 loss: 14717.9697, kl_coeff: 1.0000\n",
            "WARNING:root:global_step: 002100, lr: 0.00002, log_pxs: -12958.2559, log_ratio: 1759.7139 loss: 14717.9697, kl_coeff: 1.0000\n",
            " 72% 2149/3000 [53:33<14:26,  1.02s/it]WARNING:root:global_step: 002150, lr: 0.00002, log_pxs: -12910.1309, log_ratio: 1761.2832 loss: 14671.4141, kl_coeff: 1.0000\n",
            "WARNING:root:global_step: 002150, lr: 0.00002, log_pxs: -12910.1309, log_ratio: 1761.2832 loss: 14671.4141, kl_coeff: 1.0000\n",
            " 73% 2199/3000 [54:49<16:26,  1.23s/it]WARNING:root:global_step: 002200, lr: 0.00001, log_pxs: -12884.4570, log_ratio: 1759.6191 loss: 14644.0762, kl_coeff: 1.0000\n",
            "WARNING:root:global_step: 002200, lr: 0.00001, log_pxs: -12884.4570, log_ratio: 1759.6191 loss: 14644.0762, kl_coeff: 1.0000\n",
            " 75% 2249/3000 [56:04<13:59,  1.12s/it]WARNING:root:global_step: 002250, lr: 0.00001, log_pxs: -12746.3262, log_ratio: 1759.7335 loss: 14506.0596, kl_coeff: 1.0000\n",
            "WARNING:root:global_step: 002250, lr: 0.00001, log_pxs: -12746.3262, log_ratio: 1759.7335 loss: 14506.0596, kl_coeff: 1.0000\n",
            " 77% 2299/3000 [57:19<12:27,  1.07s/it]WARNING:root:global_step: 002300, lr: 0.00001, log_pxs: -12883.2793, log_ratio: 1767.4003 loss: 14650.6797, kl_coeff: 1.0000\n",
            "WARNING:root:global_step: 002300, lr: 0.00001, log_pxs: -12883.2793, log_ratio: 1767.4003 loss: 14650.6797, kl_coeff: 1.0000\n",
            " 78% 2349/3000 [58:34<11:06,  1.02s/it]WARNING:root:global_step: 002350, lr: 0.00001, log_pxs: -12970.7969, log_ratio: 1765.8188 loss: 14736.6152, kl_coeff: 1.0000\n",
            "WARNING:root:global_step: 002350, lr: 0.00001, log_pxs: -12970.7969, log_ratio: 1765.8188 loss: 14736.6152, kl_coeff: 1.0000\n",
            " 80% 2399/3000 [59:49<10:22,  1.04s/it]WARNING:root:global_step: 002400, lr: 0.00001, log_pxs: -12896.2871, log_ratio: 1761.1843 loss: 14657.4717, kl_coeff: 1.0000\n",
            "WARNING:root:global_step: 002400, lr: 0.00001, log_pxs: -12896.2871, log_ratio: 1761.1843 loss: 14657.4717, kl_coeff: 1.0000\n",
            " 82% 2449/3000 [1:01:05<11:27,  1.25s/it]WARNING:root:global_step: 002450, lr: 0.00001, log_pxs: -12950.3311, log_ratio: 1762.0820 loss: 14712.4131, kl_coeff: 1.0000\n",
            "WARNING:root:global_step: 002450, lr: 0.00001, log_pxs: -12950.3311, log_ratio: 1762.0820 loss: 14712.4131, kl_coeff: 1.0000\n",
            " 83% 2499/3000 [1:02:21<09:21,  1.12s/it]WARNING:root:global_step: 002500, lr: 0.00001, log_pxs: -12847.4512, log_ratio: 1752.3849 loss: 14599.8359, kl_coeff: 1.0000\n",
            "WARNING:root:global_step: 002500, lr: 0.00001, log_pxs: -12847.4512, log_ratio: 1752.3849 loss: 14599.8359, kl_coeff: 1.0000\n",
            " 85% 2549/3000 [1:03:36<07:55,  1.05s/it]WARNING:root:global_step: 002550, lr: 0.00000, log_pxs: -12830.9766, log_ratio: 1752.0044 loss: 14582.9805, kl_coeff: 1.0000\n",
            "WARNING:root:global_step: 002550, lr: 0.00000, log_pxs: -12830.9766, log_ratio: 1752.0044 loss: 14582.9805, kl_coeff: 1.0000\n",
            " 87% 2599/3000 [1:04:51<07:02,  1.05s/it]WARNING:root:global_step: 002600, lr: 0.00000, log_pxs: -12790.6113, log_ratio: 1750.9425 loss: 14541.5537, kl_coeff: 1.0000\n",
            "WARNING:root:global_step: 002600, lr: 0.00000, log_pxs: -12790.6113, log_ratio: 1750.9425 loss: 14541.5537, kl_coeff: 1.0000\n",
            " 88% 2649/3000 [1:06:05<05:57,  1.02s/it]WARNING:root:global_step: 002650, lr: 0.00000, log_pxs: -12848.0684, log_ratio: 1749.7635 loss: 14597.8320, kl_coeff: 1.0000\n",
            "WARNING:root:global_step: 002650, lr: 0.00000, log_pxs: -12848.0684, log_ratio: 1749.7635 loss: 14597.8320, kl_coeff: 1.0000\n",
            " 90% 2699/3000 [1:07:22<05:56,  1.18s/it]WARNING:root:global_step: 002700, lr: 0.00000, log_pxs: -12797.1270, log_ratio: 1751.4246 loss: 14548.5518, kl_coeff: 1.0000\n",
            "WARNING:root:global_step: 002700, lr: 0.00000, log_pxs: -12797.1270, log_ratio: 1751.4246 loss: 14548.5518, kl_coeff: 1.0000\n",
            " 92% 2749/3000 [1:08:37<04:35,  1.10s/it]WARNING:root:global_step: 002750, lr: 0.00000, log_pxs: -12889.8418, log_ratio: 1754.4404 loss: 14644.2822, kl_coeff: 1.0000\n",
            "WARNING:root:global_step: 002750, lr: 0.00000, log_pxs: -12889.8418, log_ratio: 1754.4404 loss: 14644.2822, kl_coeff: 1.0000\n",
            " 93% 2799/3000 [1:09:52<03:30,  1.05s/it]WARNING:root:global_step: 002800, lr: 0.00000, log_pxs: -12853.3516, log_ratio: 1759.9530 loss: 14613.3047, kl_coeff: 1.0000\n",
            "WARNING:root:global_step: 002800, lr: 0.00000, log_pxs: -12853.3516, log_ratio: 1759.9530 loss: 14613.3047, kl_coeff: 1.0000\n",
            " 95% 2849/3000 [1:11:06<02:34,  1.02s/it]WARNING:root:global_step: 002850, lr: 0.00000, log_pxs: -12791.9746, log_ratio: 1756.1787 loss: 14548.1533, kl_coeff: 1.0000\n",
            "WARNING:root:global_step: 002850, lr: 0.00000, log_pxs: -12791.9746, log_ratio: 1756.1787 loss: 14548.1533, kl_coeff: 1.0000\n",
            " 97% 2899/3000 [1:12:21<01:41,  1.00s/it]WARNING:root:global_step: 002900, lr: 0.00000, log_pxs: -12744.9883, log_ratio: 1747.0417 loss: 14492.0303, kl_coeff: 1.0000\n",
            "WARNING:root:global_step: 002900, lr: 0.00000, log_pxs: -12744.9883, log_ratio: 1747.0417 loss: 14492.0303, kl_coeff: 1.0000\n",
            " 98% 2949/3000 [1:13:36<01:01,  1.20s/it]WARNING:root:global_step: 002950, lr: 0.00000, log_pxs: -12930.9600, log_ratio: 1759.5486 loss: 14690.5088, kl_coeff: 1.0000\n",
            "WARNING:root:global_step: 002950, lr: 0.00000, log_pxs: -12930.9600, log_ratio: 1759.5486 loss: 14690.5088, kl_coeff: 1.0000\n",
            "100% 2999/3000 [1:14:51<00:01,  1.08s/it]WARNING:root:global_step: 003000, lr: 0.00000, log_pxs: -12792.2520, log_ratio: 1754.0801 loss: 14546.3320, kl_coeff: 1.0000\n",
            "WARNING:root:global_step: 003000, lr: 0.00000, log_pxs: -12792.2520, log_ratio: 1754.0801 loss: 14546.3320, kl_coeff: 1.0000\n",
            "100% 3000/3000 [1:15:13<00:00,  1.50s/it]\n",
            "100% 3000/3000 [1:15:13<00:00,  1.50s/it]\n"
          ]
        }
      ]
    },
    {
      "cell_type": "code",
      "source": [
        "!python -m experiments.latent_sde_lorenz_2 --train-dir './outputs'"
      ],
      "metadata": {
        "colab": {
          "base_uri": "https://localhost:8080/"
        },
        "id": "GIqOxKtf18Cv",
        "outputId": "7398efe6-b69f-4316-e117-f16c9a6ccc53"
      },
      "execution_count": null,
      "outputs": [
        {
          "output_type": "stream",
          "name": "stdout",
          "text": [
            "WARNING:root:Stored toy data at: ./outputs/lorenz_data.pth\n",
            "  2% 49/3000 [00:51<49:46,  1.01s/it]WARNING:root:global_step: 000050, lr: 0.00861, log_pxs: -716983.2500, log_ratio: 10329.7559 loss: 720426.5000, kl_coeff: 0.3400\n",
            "  3% 99/3000 [02:10<53:23,  1.10s/it]WARNING:root:global_step: 000100, lr: 0.00740, log_pxs: -268032.5000, log_ratio: 9552.4297 loss: 274400.7812, kl_coeff: 0.6733\n",
            "  5% 149/3000 [03:26<53:49,  1.13s/it]WARNING:root:global_step: 000150, lr: 0.00637, log_pxs: -142487.1406, log_ratio: 8560.7373 loss: 151047.8750, kl_coeff: 1.0000\n",
            "  7% 199/3000 [04:42<50:04,  1.07s/it]WARNING:root:global_step: 000200, lr: 0.00548, log_pxs: -87453.4219, log_ratio: 8349.5762 loss: 95803.0000, kl_coeff: 1.0000\n",
            "  8% 249/3000 [05:58<47:59,  1.05s/it]WARNING:root:global_step: 000250, lr: 0.00472, log_pxs: -59272.7773, log_ratio: 6951.7427 loss: 66224.5234, kl_coeff: 1.0000\n",
            " 10% 299/3000 [07:14<46:02,  1.02s/it]WARNING:root:global_step: 000300, lr: 0.00406, log_pxs: -45008.3516, log_ratio: 6568.6997 loss: 51577.0508, kl_coeff: 1.0000\n",
            " 12% 349/3000 [08:31<50:58,  1.15s/it]WARNING:root:global_step: 000350, lr: 0.00349, log_pxs: -28092.5234, log_ratio: 6315.2021 loss: 34407.7266, kl_coeff: 1.0000\n",
            " 13% 399/3000 [09:46<46:58,  1.08s/it]WARNING:root:global_step: 000400, lr: 0.00301, log_pxs: -19082.1484, log_ratio: 5731.9658 loss: 24814.1133, kl_coeff: 1.0000\n",
            " 15% 449/3000 [11:03<46:42,  1.10s/it]WARNING:root:global_step: 000450, lr: 0.00259, log_pxs: -13723.9277, log_ratio: 4468.9351 loss: 18192.8633, kl_coeff: 1.0000\n",
            " 17% 499/3000 [12:24<53:01,  1.27s/it]WARNING:root:global_step: 000500, lr: 0.00223, log_pxs: -11526.3652, log_ratio: 3730.3279 loss: 15256.6934, kl_coeff: 1.0000\n",
            " 18% 549/3000 [13:46<50:30,  1.24s/it]WARNING:root:global_step: 000550, lr: 0.00192, log_pxs: -9776.4941, log_ratio: 3230.1101 loss: 13006.6045, kl_coeff: 1.0000\n",
            " 20% 599/3000 [15:19<54:35,  1.36s/it]WARNING:root:global_step: 000600, lr: 0.00165, log_pxs: -8381.0283, log_ratio: 2769.4885 loss: 11150.5166, kl_coeff: 1.0000\n",
            " 22% 649/3000 [16:51<54:07,  1.38s/it]WARNING:root:global_step: 000650, lr: 0.00142, log_pxs: -7581.3149, log_ratio: 2409.8760 loss: 9991.1914, kl_coeff: 1.0000\n",
            " 23% 699/3000 [18:25<49:37,  1.29s/it]WARNING:root:global_step: 000700, lr: 0.00122, log_pxs: -6919.8633, log_ratio: 2207.4390 loss: 9127.3027, kl_coeff: 1.0000\n",
            " 25% 736/3000 [19:40<49:54,  1.32s/it]"
          ]
        }
      ]
    }
  ]
}